{
 "cells": [
  {
   "cell_type": "code",
   "execution_count": null,
   "id": "44576ae0",
   "metadata": {},
   "outputs": [],
   "source": [
    "import pandas as pd\n",
    "import numpy as np\n",
    "import matplotlib.pyplot as plt\n",
    "import seaborn as sns\n",
    "from sklearn.model_selection import train_test_split\n",
    "from sklearn.preprocessing import StandardScaler\n",
    "from sklearn.neural_network import MLPClassifier\n",
    "from sklearn.tree import DecisionTreeClassifier\n",
    "from sklearn.ensemble import RandomForestClassifier\n",
    "from sklearn.model_selection import GridSearchCV\n",
    "from sklearn.svm import SVC\n",
    "from sklearn.neighbors import KNeighborsClassifier\n",
    "from sklearn.metrics import f1_score, roc_auc_score, recall_score,precision_score, balanced_accuracy_score, log_loss, confusion_matrix,classification_report"
   ]
  },
  {
   "cell_type": "code",
   "execution_count": null,
   "id": "396ca9c7",
   "metadata": {},
   "outputs": [],
   "source": [
    "import warnings\n",
    "warnings.filterwarnings('ignore')"
   ]
  },
  {
   "cell_type": "code",
   "execution_count": null,
   "id": "d688774b",
   "metadata": {},
   "outputs": [],
   "source": [
    "data = pd.read_csv('/Users/priyankac/Downloads/travel insurance.csv')"
   ]
  },
  {
   "cell_type": "code",
   "execution_count": null,
   "id": "0ad6a3bc",
   "metadata": {},
   "outputs": [],
   "source": [
    "data.head()"
   ]
  },
  {
   "cell_type": "code",
   "execution_count": null,
   "id": "8125568d",
   "metadata": {},
   "outputs": [],
   "source": [
    "data.shape"
   ]
  },
  {
   "cell_type": "code",
   "execution_count": null,
   "id": "302111ef",
   "metadata": {},
   "outputs": [],
   "source": [
    "data.dtypes"
   ]
  },
  {
   "cell_type": "code",
   "execution_count": null,
   "id": "ecc3cdbc",
   "metadata": {},
   "outputs": [],
   "source": [
    "data.info()"
   ]
  },
  {
   "cell_type": "markdown",
   "id": "4f1aa939",
   "metadata": {},
   "source": [
    "### Define target Variable"
   ]
  },
  {
   "cell_type": "code",
   "execution_count": null,
   "id": "bf2d4747",
   "metadata": {},
   "outputs": [],
   "source": [
    "data['Claim'].value_counts()\n",
    "\n",
    "# Dataset seems to be very imbalanced\n",
    "# some technique will have to be used to balance the data"
   ]
  },
  {
   "cell_type": "code",
   "execution_count": null,
   "id": "ffad5aaf",
   "metadata": {},
   "outputs": [],
   "source": [
    "data['Claim'].value_counts()[:].plot(kind='bar',color='tomato')\n",
    "plt.title('Insurance Claimed')\n",
    "plt.show()"
   ]
  },
  {
   "cell_type": "code",
   "execution_count": null,
   "id": "67519315",
   "metadata": {},
   "outputs": [],
   "source": [
    "data['target'] = np.where(data['Claim'] == 'Yes', 1, 0)"
   ]
  },
  {
   "cell_type": "markdown",
   "id": "3b351f65",
   "metadata": {},
   "source": [
    "### Drop the Claim feature to retain the target column"
   ]
  },
  {
   "cell_type": "code",
   "execution_count": null,
   "id": "06c10170",
   "metadata": {},
   "outputs": [],
   "source": [
    "data = data.drop(['Claim'], axis = 1)"
   ]
  },
  {
   "cell_type": "code",
   "execution_count": null,
   "id": "16880879",
   "metadata": {},
   "outputs": [],
   "source": [
    "data.dtypes"
   ]
  },
  {
   "cell_type": "markdown",
   "id": "9400253e",
   "metadata": {},
   "source": [
    "### defining the target and Independent features"
   ]
  },
  {
   "cell_type": "code",
   "execution_count": null,
   "id": "e1e76dd5",
   "metadata": {},
   "outputs": [],
   "source": [
    "Y = data[['target']]\n",
    "X = data.drop(['target'], axis = 1)"
   ]
  },
  {
   "cell_type": "markdown",
   "id": "25b1e60c",
   "metadata": {},
   "source": [
    "### Get the claim rate "
   ]
  },
  {
   "cell_type": "code",
   "execution_count": null,
   "id": "0a19643f",
   "metadata": {},
   "outputs": [],
   "source": [
    "Y.mean()"
   ]
  },
  {
   "cell_type": "markdown",
   "id": "25a9459f",
   "metadata": {},
   "source": [
    "### Split features into Numerical and Categorical"
   ]
  },
  {
   "cell_type": "code",
   "execution_count": null,
   "id": "e2b3cbbc",
   "metadata": {},
   "outputs": [],
   "source": [
    "df_num = X.select_dtypes(include = 'number')\n",
    "df_char =X.select_dtypes(include = 'object')"
   ]
  },
  {
   "cell_type": "code",
   "execution_count": null,
   "id": "30c347fe",
   "metadata": {},
   "outputs": [],
   "source": [
    "def unique_levels(x):\n",
    "    x = x.value_counts().count()\n",
    "    return(x)\n",
    "\n",
    "df_value_counts = pd.DataFrame(df_num.apply(lambda x : unique_levels(x)))"
   ]
  },
  {
   "cell_type": "code",
   "execution_count": null,
   "id": "c6fe8238",
   "metadata": {},
   "outputs": [],
   "source": [
    "df_value_counts.columns = ['feature_levels']\n",
    "df_value_counts.head()"
   ]
  },
  {
   "cell_type": "code",
   "execution_count": null,
   "id": "5be037a7",
   "metadata": {},
   "outputs": [],
   "source": [
    "def univariateAnalysis_numeric(column,nbins):\n",
    "    plt.figure()\n",
    "    print(\"Distribution of \" + column)\n",
    "    print(\"---------------------------------------------\")\n",
    "    sns.distplot(data[column], kde=False, color='g');\n",
    "    plt.show()\n",
    "    \n",
    "    plt.figure()\n",
    "    print(\"BoxPlot of \" + column)\n",
    "    print(\"---------------------------------------------\")\n",
    "    ax = sns.boxplot(x=data[column])\n",
    "    plt.show()"
   ]
  },
  {
   "cell_type": "code",
   "execution_count": null,
   "id": "1b237947",
   "metadata": {},
   "outputs": [],
   "source": [
    "lstnumericcolumns = list(df_num.columns.values)\n",
    "for x in lstnumericcolumns:\n",
    "    univariateAnalysis_numeric(x,20)"
   ]
  },
  {
   "cell_type": "code",
   "execution_count": null,
   "id": "36d7c58c",
   "metadata": {},
   "outputs": [],
   "source": [
    "#**Plot the Pairplot for the dataset**\n",
    "sns.pairplot(data[data.dtypes[(data.dtypes=='int64')|(data.dtypes=='float64')].index])\n",
    "plt.show()"
   ]
  },
  {
   "cell_type": "markdown",
   "id": "b32ae1e0",
   "metadata": {},
   "source": [
    "### Outlier Analysis"
   ]
  },
  {
   "cell_type": "code",
   "execution_count": null,
   "id": "d8d8014d",
   "metadata": {},
   "outputs": [],
   "source": [
    "df_num.describe(percentiles = [0.01, 0.05, 0.10, 0.25, 0.50, 0.75,0.99])"
   ]
  },
  {
   "cell_type": "code",
   "execution_count": null,
   "id": "1ad16bab",
   "metadata": {},
   "outputs": [],
   "source": [
    "#check for outliers.\n",
    "continuous=data.dtypes[(data.dtypes=='int64')|(data.dtypes=='float64')].index\n",
    "data_plot=data[continuous]\n",
    "\n",
    "data_plot.boxplot(figsize=(15,10), rot=90);"
   ]
  },
  {
   "cell_type": "markdown",
   "id": "29795cb1",
   "metadata": {},
   "source": [
    "### Capping and Flooring of Outliers"
   ]
  },
  {
   "cell_type": "code",
   "execution_count": null,
   "id": "83b0c398",
   "metadata": {},
   "outputs": [],
   "source": [
    "def outlier_cap(x):\n",
    "    x = x.clip(lower = x.quantile(0.01))\n",
    "    x = x.clip(upper = x.quantile(0.99))\n",
    "    return(x)"
   ]
  },
  {
   "cell_type": "code",
   "execution_count": null,
   "id": "66c59953",
   "metadata": {},
   "outputs": [],
   "source": [
    "df_num = df_num.apply(lambda x : outlier_cap(x))"
   ]
  },
  {
   "cell_type": "code",
   "execution_count": null,
   "id": "b71d4eb2",
   "metadata": {},
   "outputs": [],
   "source": [
    "df_num.describe(percentiles = [0.01,0.05,0.10,0.25,0.50,0.75,0.85,0.90,0.99])"
   ]
  },
  {
   "cell_type": "markdown",
   "id": "1a024d79",
   "metadata": {},
   "source": [
    "### Missing Values Check"
   ]
  },
  {
   "cell_type": "code",
   "execution_count": null,
   "id": "30d4a1d2",
   "metadata": {},
   "outputs": [],
   "source": [
    "df_num.isnull().mean()"
   ]
  },
  {
   "cell_type": "code",
   "execution_count": null,
   "id": "a8ea8333",
   "metadata": {},
   "outputs": [],
   "source": [
    "df_char.isnull().mean()\n",
    "\n",
    "# the Gender column has 71% missing values, it will need to be dropped"
   ]
  },
  {
   "cell_type": "code",
   "execution_count": null,
   "id": "a1abc6aa",
   "metadata": {},
   "outputs": [],
   "source": [
    "df_char = df_char.drop(['Gender'], axis = 1)"
   ]
  },
  {
   "cell_type": "code",
   "execution_count": null,
   "id": "cda01437",
   "metadata": {},
   "outputs": [],
   "source": [
    "df_char.dtypes"
   ]
  },
  {
   "cell_type": "markdown",
   "id": "a2b9ad05",
   "metadata": {},
   "source": [
    "## Feature Selection - Numerical Features"
   ]
  },
  {
   "cell_type": "markdown",
   "id": "a266ddaa",
   "metadata": {},
   "source": [
    "### Part 1 : Remove Features with 0 Variance"
   ]
  },
  {
   "cell_type": "code",
   "execution_count": null,
   "id": "a80258c9",
   "metadata": {},
   "outputs": [],
   "source": [
    "from sklearn.feature_selection import VarianceThreshold\n",
    "varselector = VarianceThreshold(threshold = 0)\n",
    "varselector.fit_transform(df_num)\n",
    "\n",
    "# Get columns to keep and create a new dataframe with those only\n",
    "cols = varselector.get_support(indices = True)\n",
    "num_1 = df_num.iloc[:, cols]"
   ]
  },
  {
   "cell_type": "code",
   "execution_count": null,
   "id": "f938591b",
   "metadata": {},
   "outputs": [],
   "source": [
    "df_num.iloc[0]"
   ]
  },
  {
   "cell_type": "markdown",
   "id": "6907bf14",
   "metadata": {},
   "source": [
    "### Part 2 : Bivariate Analysis"
   ]
  },
  {
   "cell_type": "code",
   "execution_count": null,
   "id": "f92e4d3e",
   "metadata": {},
   "outputs": [],
   "source": [
    "from sklearn.preprocessing import KBinsDiscretizer\n",
    "discrete = KBinsDiscretizer(n_bins = 10, encode = 'ordinal', strategy = 'quantile')\n",
    "num_binned = pd.DataFrame(discrete.fit_transform(df_num), index = df_num.index, columns = df_num.columns).add_suffix('_Rank')\n",
    "num_binned.tail()"
   ]
  },
  {
   "cell_type": "code",
   "execution_count": null,
   "id": "e1a450c2",
   "metadata": {},
   "outputs": [],
   "source": [
    "# Check if the feature show a slope at all\n",
    "# If they do, then do you see some deciles below the population average and some higher than population average?\n",
    "# If that is the case then the slope will be strong\n",
    "\n",
    "# Conclusion: A strong slope is indicative of the faetures' ability to descriminate the event from non event\n",
    "#             making it a good predictor\n",
    "\n",
    "X_bin_combined = pd.concat([Y, num_binned], axis = 1, join = 'inner')\n",
    "\n",
    "from numpy import mean\n",
    "for col in (num_binned.columns):\n",
    "    plt.figure()\n",
    "    sns.lineplot(x = col, y = X_bin_combined['target'].mean(), data = X_bin_combined, color = 'red')\n",
    "    sns.barplot(x = col, y = 'target', data = X_bin_combined, estimator = mean)\n",
    "plt.show()    "
   ]
  },
  {
   "cell_type": "code",
   "execution_count": null,
   "id": "e3d2fb55",
   "metadata": {},
   "outputs": [],
   "source": [
    "# Since there are very few features and all show some slope all will be kept"
   ]
  },
  {
   "cell_type": "code",
   "execution_count": null,
   "id": "aaceb067",
   "metadata": {},
   "outputs": [],
   "source": [
    "select_features_df_num = df_num\n",
    "select_features_df_num.shape"
   ]
  },
  {
   "cell_type": "code",
   "execution_count": null,
   "id": "75ed4652",
   "metadata": {},
   "outputs": [],
   "source": [
    "#plot correlation heatmap\n",
    "plt.figure(figsize=(10,10))\n",
    "sns.heatmap(round(df_num.corr(),2),fmt='0.2f', annot = True, cmap = 'YlGnBu')\n",
    "plt.show()"
   ]
  },
  {
   "cell_type": "markdown",
   "id": "77bea29f",
   "metadata": {},
   "source": [
    "## Feature Selection - Categorical Feature"
   ]
  },
  {
   "cell_type": "code",
   "execution_count": null,
   "id": "1b604efa",
   "metadata": {},
   "outputs": [],
   "source": [
    "def unique_levels(x):\n",
    "    x = x.value_counts().count()\n",
    "    return(x)\n",
    "\n",
    "char_unique_levels = pd.DataFrame(df_char.apply(lambda x : unique_levels(x)))"
   ]
  },
  {
   "cell_type": "code",
   "execution_count": null,
   "id": "1abbd05b",
   "metadata": {},
   "outputs": [],
   "source": [
    "char_unique_levels.columns = ['feature_levels']\n",
    "char_unique_levels.head()"
   ]
  },
  {
   "cell_type": "code",
   "execution_count": null,
   "id": "ca7a108f",
   "metadata": {},
   "outputs": [],
   "source": [
    "slice1 = char_unique_levels.loc[char_unique_levels['feature_levels'] > 1]\n",
    "cat_list = slice1.index\n",
    "df_char = df_char.loc[:, cat_list]"
   ]
  },
  {
   "cell_type": "markdown",
   "id": "54e006cd",
   "metadata": {},
   "source": [
    "### Part 1: Bi Variate Analysis"
   ]
  },
  {
   "cell_type": "code",
   "execution_count": null,
   "id": "1518db5d",
   "metadata": {},
   "outputs": [],
   "source": [
    "X_char_merged = pd.concat([Y, df_char], axis = 1, join = 'inner')\n",
    "\n",
    "from numpy import mean\n",
    "for col in (df_char.columns):\n",
    "    plt.figure()\n",
    "    sns.lineplot(x = col, y = X_char_merged['target'].mean(), data = X_char_merged, color = 'red')\n",
    "    sns.barplot(x = col, y = 'target', data = X_char_merged, estimator = mean)\n",
    "plt.show()    "
   ]
  },
  {
   "cell_type": "code",
   "execution_count": null,
   "id": "c1b5e68f",
   "metadata": {},
   "outputs": [],
   "source": [
    "char_1 = df_char"
   ]
  },
  {
   "cell_type": "code",
   "execution_count": null,
   "id": "96061f55",
   "metadata": {},
   "outputs": [],
   "source": [
    "char_1.dtypes"
   ]
  },
  {
   "cell_type": "code",
   "execution_count": null,
   "id": "d1fb7086",
   "metadata": {},
   "outputs": [],
   "source": [
    "# Create dummy features with n-1 levels\n",
    "X_char_dum = pd.get_dummies(char_1, drop_first = True)\n",
    "X_char_dum.shape"
   ]
  },
  {
   "cell_type": "markdown",
   "id": "147058f6",
   "metadata": {},
   "source": [
    "### Part 2 : Select K Best"
   ]
  },
  {
   "cell_type": "code",
   "execution_count": null,
   "id": "83c7bd86",
   "metadata": {},
   "outputs": [],
   "source": [
    "# Select K Best for Categorical Features\n",
    "from sklearn.feature_selection import SelectKBest, chi2\n",
    "selector = SelectKBest(chi2, k = 120)\n",
    "selector.fit_transform(X_char_dum, Y)\n",
    "\n",
    "# Get columns to keep and create new dataframe with those only\n",
    "cols = selector.get_support(indices = True)\n",
    "select_features_df_char = X_char_dum.iloc[:, cols]"
   ]
  },
  {
   "cell_type": "code",
   "execution_count": null,
   "id": "a8f28ca8",
   "metadata": {},
   "outputs": [],
   "source": [
    "select_features_df_char.iloc[0]"
   ]
  },
  {
   "cell_type": "markdown",
   "id": "302e8e01",
   "metadata": {},
   "source": [
    "## Creating the Master Feature Set for Model Development"
   ]
  },
  {
   "cell_type": "code",
   "execution_count": null,
   "id": "00897d37",
   "metadata": {},
   "outputs": [],
   "source": [
    "X_all = pd.concat([select_features_df_char, select_features_df_num], axis = 1, join = 'inner')"
   ]
  },
  {
   "cell_type": "code",
   "execution_count": null,
   "id": "552a6f5f",
   "metadata": {},
   "outputs": [],
   "source": [
    "!pip install imbalanced-learn"
   ]
  },
  {
   "cell_type": "code",
   "execution_count": null,
   "id": "9fd98361",
   "metadata": {},
   "outputs": [],
   "source": [
    "# Oversample and plot imbalanced dataset with SMOTE\n",
    "from collections import Counter\n",
    "from sklearn.datasets import make_classification\n",
    "from imblearn.over_sampling import SMOTE"
   ]
  },
  {
   "cell_type": "code",
   "execution_count": null,
   "id": "d1216f8c",
   "metadata": {},
   "outputs": [],
   "source": [
    "sm = SMOTE(random_state=42)\n",
    "Xb, yb = sm.fit_resample(X_all,Y)\n",
    "print(f'''Shape of X before SMOTE: {X_all.shape}\n",
    "Shape of X after SMOTE: {Xb.shape}''')\n",
    "print('\\nBalance of positive and negative classes (%):')\n",
    "yb.value_counts(normalize=True) * 100"
   ]
  },
  {
   "cell_type": "markdown",
   "id": "13a5a627",
   "metadata": {},
   "source": [
    "## Train Test Split"
   ]
  },
  {
   "cell_type": "code",
   "execution_count": null,
   "id": "4c28d5b6",
   "metadata": {},
   "outputs": [],
   "source": [
    "X_train, X_test, y_train, y_test = train_test_split(Xb,yb,test_size=0.3,random_state=42,shuffle=True,stratify=yb)"
   ]
  },
  {
   "cell_type": "markdown",
   "id": "ba9d975c",
   "metadata": {},
   "source": [
    "## Model Building"
   ]
  },
  {
   "cell_type": "code",
   "execution_count": null,
   "id": "e65115f4",
   "metadata": {},
   "outputs": [],
   "source": [
    "from sklearn.linear_model import LogisticRegression"
   ]
  },
  {
   "cell_type": "code",
   "execution_count": null,
   "id": "c0601f76",
   "metadata": {},
   "outputs": [],
   "source": [
    "values=[]\n",
    "models = [RandomForestClassifier(),LogisticRegression(),DecisionTreeClassifier(random_state=42),KNeighborsClassifier()]\n",
    "for m in models:\n",
    "  m.fit(X_train,y_train)\n",
    "  y_pred=m.predict(X_test)\n",
    "  print(m)\n",
    "  print(classification_report(y_test,y_pred)[1])\n",
    "  print(confusion_matrix(y_test,y_pred))\n",
    "  values.append([str(m)[:10],f1_score(y_test,y_pred), roc_auc_score(y_test,y_pred), recall_score(y_test,y_pred), precision_score(y_test,y_pred), \n",
    "      balanced_accuracy_score(y_test,y_pred), log_loss(y_test,y_pred)])\n",
    "  print('==========================================================')\n"
   ]
  },
  {
   "cell_type": "code",
   "execution_count": null,
   "id": "20c15723",
   "metadata": {},
   "outputs": [],
   "source": [
    "values.insert(0,['Model','f1_score','roc_auc_score','recall_score','precision_score','balanced_accuracy_score','log_loss'])\n",
    "results= pd.DataFrame(values[1:],columns=values[0])"
   ]
  },
  {
   "cell_type": "code",
   "execution_count": null,
   "id": "8fcf26bb",
   "metadata": {},
   "outputs": [],
   "source": [
    "results[['Model','f1_score','roc_auc_score','recall_score']]\n"
   ]
  },
  {
   "cell_type": "code",
   "execution_count": null,
   "id": "10c0b61c",
   "metadata": {},
   "outputs": [],
   "source": [
    "results[['precision_score','balanced_accuracy_score','log_loss']]\n"
   ]
  }
 ],
 "metadata": {
  "kernelspec": {
   "display_name": "Python 3 (ipykernel)",
   "language": "python",
   "name": "python3"
  },
  "language_info": {
   "codemirror_mode": {
    "name": "ipython",
    "version": 3
   },
   "file_extension": ".py",
   "mimetype": "text/x-python",
   "name": "python",
   "nbconvert_exporter": "python",
   "pygments_lexer": "ipython3",
   "version": "3.8.12"
  }
 },
 "nbformat": 4,
 "nbformat_minor": 5
}
